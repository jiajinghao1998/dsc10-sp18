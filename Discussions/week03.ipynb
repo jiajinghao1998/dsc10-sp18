{
 "cells": [
  {
   "cell_type": "code",
   "execution_count": 1,
   "metadata": {
    "collapsed": true
   },
   "outputs": [],
   "source": [
    "%matplotlib inline\n",
    "import matplotlib.pyplot as plots\n",
    "plots.style.use('fivethirtyeight')"
   ]
  },
  {
   "cell_type": "markdown",
   "metadata": {},
   "source": [
    "## DSC 10 Discussion - Week 3 ##\n",
    "\n",
    "Let's see if we can make some interesting conclusions by using what we've learned about tables and visualization!\n",
    "\n",
    "First, let's set things up: import datascience and numpy, and read in the table called \"all-ages\"."
   ]
  },
  {
   "cell_type": "code",
   "execution_count": 6,
   "metadata": {},
   "outputs": [
    {
     "data": {
      "text/html": [
       "<table border=\"1\" class=\"dataframe\">\n",
       "    <thead>\n",
       "        <tr>\n",
       "            <th>Major_code</th> <th>Major</th> <th>Major_category</th> <th>Total</th> <th>Employed</th> <th>Employed_full_time_year_round</th> <th>Unemployed</th> <th>Unemployment_rate</th> <th>Median</th> <th>P25th</th> <th>P75th</th>\n",
       "        </tr>\n",
       "    </thead>\n",
       "    <tbody>\n",
       "        <tr>\n",
       "            <td>1100      </td> <td>GENERAL AGRICULTURE                  </td> <td>Agriculture & Natural Resources</td> <td>128148</td> <td>90245   </td> <td>74078                        </td> <td>2423      </td> <td>0.0261471        </td> <td>50000 </td> <td>34000</td> <td>80000</td>\n",
       "        </tr>\n",
       "    </tbody>\n",
       "        <tr>\n",
       "            <td>1101      </td> <td>AGRICULTURE PRODUCTION AND MANAGEMENT</td> <td>Agriculture & Natural Resources</td> <td>95326 </td> <td>76865   </td> <td>64240                        </td> <td>2266      </td> <td>0.0286361        </td> <td>54000 </td> <td>36000</td> <td>80000</td>\n",
       "        </tr>\n",
       "    </tbody>\n",
       "        <tr>\n",
       "            <td>1102      </td> <td>AGRICULTURAL ECONOMICS               </td> <td>Agriculture & Natural Resources</td> <td>33955 </td> <td>26321   </td> <td>22810                        </td> <td>821       </td> <td>0.0302483        </td> <td>63000 </td> <td>40000</td> <td>98000</td>\n",
       "        </tr>\n",
       "    </tbody>\n",
       "        <tr>\n",
       "            <td>1103      </td> <td>ANIMAL SCIENCES                      </td> <td>Agriculture & Natural Resources</td> <td>103549</td> <td>81177   </td> <td>64937                        </td> <td>3619      </td> <td>0.0426789        </td> <td>46000 </td> <td>30000</td> <td>72000</td>\n",
       "        </tr>\n",
       "    </tbody>\n",
       "        <tr>\n",
       "            <td>1104      </td> <td>FOOD SCIENCE                         </td> <td>Agriculture & Natural Resources</td> <td>24280 </td> <td>17281   </td> <td>12722                        </td> <td>894       </td> <td>0.0491884        </td> <td>62000 </td> <td>38500</td> <td>90000</td>\n",
       "        </tr>\n",
       "    </tbody>\n",
       "        <tr>\n",
       "            <td>1105      </td> <td>PLANT SCIENCE AND AGRONOMY           </td> <td>Agriculture & Natural Resources</td> <td>79409 </td> <td>63043   </td> <td>51077                        </td> <td>2070      </td> <td>0.0317909        </td> <td>50000 </td> <td>35000</td> <td>75000</td>\n",
       "        </tr>\n",
       "    </tbody>\n",
       "        <tr>\n",
       "            <td>1106      </td> <td>SOIL SCIENCE                         </td> <td>Agriculture & Natural Resources</td> <td>6586  </td> <td>4926    </td> <td>4042                         </td> <td>264       </td> <td>0.0508671        </td> <td>63000 </td> <td>39400</td> <td>88000</td>\n",
       "        </tr>\n",
       "    </tbody>\n",
       "        <tr>\n",
       "            <td>1199      </td> <td>MISCELLANEOUS AGRICULTURE            </td> <td>Agriculture & Natural Resources</td> <td>8549  </td> <td>6392    </td> <td>5074                         </td> <td>261       </td> <td>0.0392304        </td> <td>52000 </td> <td>35000</td> <td>75000</td>\n",
       "        </tr>\n",
       "    </tbody>\n",
       "        <tr>\n",
       "            <td>1301      </td> <td>ENVIRONMENTAL SCIENCE                </td> <td>Biology & Life Science         </td> <td>106106</td> <td>87602   </td> <td>65238                        </td> <td>4736      </td> <td>0.0512898        </td> <td>52000 </td> <td>38000</td> <td>75000</td>\n",
       "        </tr>\n",
       "    </tbody>\n",
       "        <tr>\n",
       "            <td>1302      </td> <td>FORESTRY                             </td> <td>Agriculture & Natural Resources</td> <td>69447 </td> <td>48228   </td> <td>39613                        </td> <td>2144      </td> <td>0.0425633        </td> <td>58000 </td> <td>40500</td> <td>80000</td>\n",
       "        </tr>\n",
       "    </tbody>\n",
       "</table>\n",
       "<p>... (163 rows omitted)</p>"
      ],
      "text/plain": [
       "Major_code | Major                                 | Major_category                  | Total  | Employed | Employed_full_time_year_round | Unemployed | Unemployment_rate | Median | P25th | P75th\n",
       "1100       | GENERAL AGRICULTURE                   | Agriculture & Natural Resources | 128148 | 90245    | 74078                         | 2423       | 0.0261471         | 50000  | 34000 | 80000\n",
       "1101       | AGRICULTURE PRODUCTION AND MANAGEMENT | Agriculture & Natural Resources | 95326  | 76865    | 64240                         | 2266       | 0.0286361         | 54000  | 36000 | 80000\n",
       "1102       | AGRICULTURAL ECONOMICS                | Agriculture & Natural Resources | 33955  | 26321    | 22810                         | 821        | 0.0302483         | 63000  | 40000 | 98000\n",
       "1103       | ANIMAL SCIENCES                       | Agriculture & Natural Resources | 103549 | 81177    | 64937                         | 3619       | 0.0426789         | 46000  | 30000 | 72000\n",
       "1104       | FOOD SCIENCE                          | Agriculture & Natural Resources | 24280  | 17281    | 12722                         | 894        | 0.0491884         | 62000  | 38500 | 90000\n",
       "1105       | PLANT SCIENCE AND AGRONOMY            | Agriculture & Natural Resources | 79409  | 63043    | 51077                         | 2070       | 0.0317909         | 50000  | 35000 | 75000\n",
       "1106       | SOIL SCIENCE                          | Agriculture & Natural Resources | 6586   | 4926     | 4042                          | 264        | 0.0508671         | 63000  | 39400 | 88000\n",
       "1199       | MISCELLANEOUS AGRICULTURE             | Agriculture & Natural Resources | 8549   | 6392     | 5074                          | 261        | 0.0392304         | 52000  | 35000 | 75000\n",
       "1301       | ENVIRONMENTAL SCIENCE                 | Biology & Life Science          | 106106 | 87602    | 65238                         | 4736       | 0.0512898         | 52000  | 38000 | 75000\n",
       "1302       | FORESTRY                              | Agriculture & Natural Resources | 69447  | 48228    | 39613                         | 2144       | 0.0425633         | 58000  | 40500 | 80000\n",
       "... (163 rows omitted)"
      ]
     },
     "execution_count": 6,
     "metadata": {},
     "output_type": "execute_result"
    }
   ],
   "source": [
    "import ... as ...\n",
    "from ... import ...\n",
    "collegedata = ...\n",
    "collegedata"
   ]
  },
  {
   "cell_type": "markdown",
   "metadata": {},
   "source": [
    "Some of these majors are pretty uncommon/obscure. Let's remove any major with less than 50000 graduates (number of graduates is listed in the Total column). How many rows did we lose? Print this number before displaying the table."
   ]
  },
  {
   "cell_type": "code",
   "execution_count": null,
   "metadata": {
    "collapsed": true,
    "scrolled": true
   },
   "outputs": [],
   "source": [
    "before = ...\n",
    "bigmajors = ...\n",
    "after = ...\n",
    "print(...)\n",
    "bigmajors"
   ]
  },
  {
   "cell_type": "markdown",
   "metadata": {},
   "source": [
    "There are some columns that we aren't too concerned with, so let's get rid of them. Specifically,\n",
    " * Major_code means nothing to us\n",
    " * Distinction between full time and part time isn't important right now, so let's drop employed_full_time_year_round"
   ]
  },
  {
   "cell_type": "code",
   "execution_count": null,
   "metadata": {
    "collapsed": true,
    "scrolled": true
   },
   "outputs": [],
   "source": [
    "dropped = ...\n",
    "dropped"
   ]
  },
  {
   "cell_type": "markdown",
   "metadata": {},
   "source": [
    "I wonder how different majors stack up in terms of employment, relative to other majors in the same category? Let's take a look. \n",
    "* Sort first by unemployment rate (low to high), and then by major category.\n",
    "     * Does it matter what order I sort these in?\n",
    "     * Can I do this in one line?\n",
    "* Now show 40 lines so we can see a couple different categories"
   ]
  },
  {
   "cell_type": "code",
   "execution_count": null,
   "metadata": {
    "collapsed": true
   },
   "outputs": [],
   "source": [
    "employsorted = ...\n",
    "categorysorted = ...\n",
    "bothsorted = ...\n",
    "..."
   ]
  },
  {
   "cell_type": "markdown",
   "metadata": {},
   "source": [
    "What's the business major with the lowest unemployment rate?\n",
    "It's a little hard to see patterns with just a table like this, so let's use a bar chart to see patterns within certain categories. Use barh to plot unemployement rates of business majors.\n",
    "* Make a new table called business containing just business majors (try using take for this: the rows with business majors are 18-29, inclusive on both ends)\n",
    "    * Challenge: how would I figure out what these rows are? (look up np.where())\n",
    "* Plot unemployment rate vs each major in the business category."
   ]
  },
  {
   "cell_type": "code",
   "execution_count": null,
   "metadata": {
    "collapsed": true
   },
   "outputs": [],
   "source": [
    "business = ...\n",
    "..."
   ]
  },
  {
   "cell_type": "markdown",
   "metadata": {},
   "source": [
    "It's good to think about what we can use visualization for. Here's an example of something that might not be terribly insightful: plot the employement rate vs unemployment rate for all majors. \n",
    "\n",
    "First, create and add a new column called employment rate to bothsorted. (This is employed/(unemployed + employed)). Assign this new table to the same name as before, bothsorted. Then, use the second cell to plot. "
   ]
  },
  {
   "cell_type": "code",
   "execution_count": null,
   "metadata": {
    "collapsed": true
   },
   "outputs": [],
   "source": [
    "bothsorted = ..."
   ]
  },
  {
   "cell_type": "code",
   "execution_count": null,
   "metadata": {
    "collapsed": true
   },
   "outputs": [],
   "source": [
    "..."
   ]
  },
  {
   "cell_type": "markdown",
   "metadata": {},
   "source": [
    "Here's something that might be a little more useful; is there a relationship between unemployment rate and median income? Plot the two and find out."
   ]
  },
  {
   "cell_type": "code",
   "execution_count": null,
   "metadata": {
    "collapsed": true
   },
   "outputs": [],
   "source": [
    "..."
   ]
  },
  {
   "cell_type": "markdown",
   "metadata": {},
   "source": [
    "You'll learn how to quantify the difference between these two scatter plots as the course progresses."
   ]
  },
  {
   "cell_type": "markdown",
   "metadata": {},
   "source": [
    "Bonus set of questions as time allows:\n",
    "You may add code cells as necessary.\n",
    "\n",
    "Now, let's take a look at the majors we ignored earlier, and see what they look like. \n",
    "\n",
    "* Create a table called smallmajors with every major that wasn't included in the bigmajors. \n",
    "* Drop the columns we did before\n",
    "* Make a bar chart comparing the differences in Median income of a major group of your choice. \n",
    "* Compare differences between P25 and P75 of every major (from the original all majors table). Should you use a bar graph, scatter plot, or histogram? Do that.\n"
   ]
  }
 ],
 "metadata": {
  "anaconda-cloud": {},
  "kernelspec": {
   "display_name": "Python 3",
   "language": "python",
   "name": "python3"
  },
  "language_info": {
   "codemirror_mode": {
    "name": "ipython",
    "version": 3
   },
   "file_extension": ".py",
   "mimetype": "text/x-python",
   "name": "python",
   "nbconvert_exporter": "python",
   "pygments_lexer": "ipython3",
   "version": "3.6.3"
  }
 },
 "nbformat": 4,
 "nbformat_minor": 1
}
